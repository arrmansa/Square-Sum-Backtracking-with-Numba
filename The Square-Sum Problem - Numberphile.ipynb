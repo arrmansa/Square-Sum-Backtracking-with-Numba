{
 "cells": [
  {
   "cell_type": "code",
   "execution_count": 1,
   "id": "1fbef7af",
   "metadata": {},
   "outputs": [],
   "source": [
    "import numpy as np\n",
    "from numba import jit\n",
    "import time\n",
    "import math"
   ]
  },
  {
   "cell_type": "code",
   "execution_count": 2,
   "id": "02fbfb5a",
   "metadata": {},
   "outputs": [],
   "source": [
    "test_number = 35"
   ]
  },
  {
   "cell_type": "code",
   "execution_count": 3,
   "id": "c3df47e3",
   "metadata": {},
   "outputs": [],
   "source": [
    "@jit\n",
    "def calculate2_jit(index,valid_digits,previous_number,output):\n",
    "    if index == valid_digits.shape[0]:\n",
    "        return True\n",
    "    for number in np.where(valid_digits)[0]:\n",
    "        if index > 0:\n",
    "            if math.sqrt(number + previous_number) % 1 != 0:\n",
    "                continue\n",
    "        valid_digits[number] = False\n",
    "        if calculate2_jit(index+1,valid_digits,number,output):\n",
    "            output[index] = number\n",
    "            return True\n",
    "        else:\n",
    "            valid_digits[number] = True\n",
    "    return False"
   ]
  },
  {
   "cell_type": "code",
   "execution_count": 4,
   "id": "790d32b4",
   "metadata": {},
   "outputs": [
    {
     "data": {
      "text/plain": [
       "True"
      ]
     },
     "execution_count": 4,
     "metadata": {},
     "output_type": "execute_result"
    }
   ],
   "source": [
    "#Compile\n",
    "output = np.zeros(16,dtype = np.int8)\n",
    "valid_numbers = np.ones(16,dtype = np.bool_)\n",
    "calculate2_jit(0,valid_numbers,0,output)"
   ]
  },
  {
   "cell_type": "code",
   "execution_count": 5,
   "id": "baa04ac5",
   "metadata": {},
   "outputs": [
    {
     "name": "stdout",
     "output_type": "stream",
     "text": [
      "True\n",
      "[1, 3, 6, 19, 30, 34, 2, 7, 18, 31, 33, 16, 9, 27, 22, 14, 11, 25, 24, 12, 13, 23, 26, 10, 15, 21, 28, 8, 17, 32, 4, 5, 20, 29, 35]\n",
      "23.4 ms ± 0 ns per loop (mean ± std. dev. of 1 run, 1 loop each)\n"
     ]
    }
   ],
   "source": [
    "%%timeit -r 1 -n 1\n",
    "\n",
    "output = np.zeros(test_number+1,dtype = np.int8)\n",
    "valid_numbers = np.ones(test_number+1,dtype = np.bool_)\n",
    "print(calculate2_jit(0,valid_numbers,0,output))\n",
    "print(list(output[1:]))"
   ]
  },
  {
   "cell_type": "code",
   "execution_count": 6,
   "id": "59cf8d3d",
   "metadata": {},
   "outputs": [],
   "source": [
    "def calculate2(index,valid_digits,previous_number,output):\n",
    "    if index == valid_digits.shape[0]:\n",
    "        return True\n",
    "    for number in np.nonzero(valid_digits)[0]:\n",
    "        if index > 0:\n",
    "            if math.sqrt(number + previous_number) % 1 != 0:\n",
    "                continue\n",
    "        valid_digits[number] = False\n",
    "        if calculate2(index+1,valid_digits,number,output):\n",
    "            output[index] = number\n",
    "            return True\n",
    "        else:\n",
    "            valid_digits[number] = True\n",
    "    return False"
   ]
  },
  {
   "cell_type": "code",
   "execution_count": 7,
   "id": "d3c44008",
   "metadata": {},
   "outputs": [
    {
     "name": "stdout",
     "output_type": "stream",
     "text": [
      "True\n",
      "[1, 3, 6, 19, 30, 34, 2, 7, 18, 31, 33, 16, 9, 27, 22, 14, 11, 25, 24, 12, 13, 23, 26, 10, 15, 21, 28, 8, 17, 32, 4, 5, 20, 29, 35]\n",
      "312 ms ± 0 ns per loop (mean ± std. dev. of 1 run, 1 loop each)\n"
     ]
    }
   ],
   "source": [
    "%%timeit -r 1 -n 1\n",
    "\n",
    "output = np.zeros(test_number+1,dtype = np.int8)\n",
    "valid_numbers = np.ones(test_number+1,dtype = np.bool_)\n",
    "print(calculate2(0,valid_numbers,0,output))\n",
    "print(list(output[1:]))"
   ]
  },
  {
   "cell_type": "code",
   "execution_count": 8,
   "id": "9698f332",
   "metadata": {},
   "outputs": [],
   "source": [
    "@jit\n",
    "def calculate_jit(main_array,index):\n",
    "    if index == main_array.shape[0]:\n",
    "        return True \n",
    "    for number in range(1,main_array.shape[0]+1):\n",
    "        if number in main_array[:index]:\n",
    "            continue\n",
    "        if index>0:\n",
    "            if (number + main_array[index-1])**0.5 % 1 != 0:\n",
    "                continue\n",
    "        main_array[index] = number\n",
    "        if calculate_jit(main_array,index+1):\n",
    "            return True\n",
    "    main_array[index] = 0\n",
    "    return False"
   ]
  },
  {
   "cell_type": "code",
   "execution_count": 9,
   "id": "9b6e3b5b",
   "metadata": {},
   "outputs": [
    {
     "data": {
      "text/plain": [
       "True"
      ]
     },
     "execution_count": 9,
     "metadata": {},
     "output_type": "execute_result"
    }
   ],
   "source": [
    "#Compile\n",
    "main_array = np.zeros(15,dtype = np.int8)\n",
    "calculate_jit(main_array,0)"
   ]
  },
  {
   "cell_type": "code",
   "execution_count": 10,
   "id": "dae083fd",
   "metadata": {},
   "outputs": [
    {
     "name": "stdout",
     "output_type": "stream",
     "text": [
      "True\n",
      "[ 1  3  6 19 30 34  2  7 18 31 33 16  9 27 22 14 11 25 24 12 13 23 26 10\n",
      " 15 21 28  8 17 32  4  5 20 29 35]\n",
      "40.6 ms ± 0 ns per loop (mean ± std. dev. of 1 run, 1 loop each)\n"
     ]
    }
   ],
   "source": [
    "%%timeit -r 1 -n 1\n",
    "\n",
    "main_array = np.zeros(test_number,dtype = np.int8)\n",
    "print(calculate_jit(main_array,0))\n",
    "print(main_array)"
   ]
  },
  {
   "cell_type": "code",
   "execution_count": 11,
   "id": "77e51da9",
   "metadata": {},
   "outputs": [],
   "source": [
    "def calculate(main_array,index):\n",
    "    if index == main_array.shape[0]:\n",
    "        return True \n",
    "    for number in range(1,main_array.shape[0]+1):\n",
    "        if number in main_array[:index]:\n",
    "            continue\n",
    "        if index>0:\n",
    "            if np.sqrt(number + main_array[index-1]) % 1 != 0:\n",
    "                continue\n",
    "        main_array[index] = number                \n",
    "        if calculate(main_array,index+1):\n",
    "            return True\n",
    "    main_array[index] = 0\n",
    "    return False"
   ]
  },
  {
   "cell_type": "code",
   "execution_count": 12,
   "id": "2bc7eea8",
   "metadata": {},
   "outputs": [
    {
     "name": "stdout",
     "output_type": "stream",
     "text": [
      "True\n",
      "[ 1  3  6 19 30 34  2  7 18 31 33 16  9 27 22 14 11 25 24 12 13 23 26 10\n",
      " 15 21 28  8 17 32  4  5 20 29 35]\n",
      "7.39 s ± 0 ns per loop (mean ± std. dev. of 1 run, 1 loop each)\n"
     ]
    }
   ],
   "source": [
    "%%timeit -r 1 -n 1\n",
    "\n",
    "main_array = np.zeros(test_number,dtype = np.int8)\n",
    "print(calculate(main_array,0))\n",
    "print(main_array)"
   ]
  }
 ],
 "metadata": {
  "kernelspec": {
   "display_name": "Python 3 (ipykernel)",
   "language": "python",
   "name": "python3"
  },
  "language_info": {
   "codemirror_mode": {
    "name": "ipython",
    "version": 3
   },
   "file_extension": ".py",
   "mimetype": "text/x-python",
   "name": "python",
   "nbconvert_exporter": "python",
   "pygments_lexer": "ipython3",
   "version": "3.7.10"
  }
 },
 "nbformat": 4,
 "nbformat_minor": 5
}
